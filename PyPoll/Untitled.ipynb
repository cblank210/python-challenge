{
 "cells": [
  {
   "cell_type": "code",
   "execution_count": 1,
   "metadata": {},
   "outputs": [],
   "source": [
    "# Import modules\n",
    "import os\n",
    "import csv\n",
    "import statistics"
   ]
  },
  {
   "cell_type": "code",
   "execution_count": 2,
   "metadata": {},
   "outputs": [],
   "source": [
    "# Create a variable for csv file\n",
    "polling = \"Resources/election_data.csv\""
   ]
  },
  {
   "cell_type": "code",
   "execution_count": 3,
   "metadata": {},
   "outputs": [],
   "source": [
    "# Tell the program to open file, skip the header row, and create a list for listed variables\n",
    "with open(polling) as csv_file:\n",
    "    reader = csv.reader(csv_file, delimiter=',')\n",
    "    header = next(reader)\n",
    "    candidates = []\n",
    "    \n",
    "    for row in reader:\n",
    "        candidates.append(row[2])  "
   ]
  },
  {
   "cell_type": "code",
   "execution_count": 4,
   "metadata": {},
   "outputs": [
    {
     "data": {
      "text/plain": [
       "3521001"
      ]
     },
     "execution_count": 4,
     "metadata": {},
     "output_type": "execute_result"
    }
   ],
   "source": [
    "# Calculate total votes\n",
    "total_votes = (len(candidates))\n",
    "total_votes"
   ]
  },
  {
   "cell_type": "code",
   "execution_count": 5,
   "metadata": {},
   "outputs": [
    {
     "data": {
      "text/plain": [
       "['Khan', 'Correy', 'Li', \"O'Tooley\"]"
      ]
     },
     "execution_count": 5,
     "metadata": {},
     "output_type": "execute_result"
    }
   ],
   "source": [
    "# Create a list of candidate names\n",
    "candidate_names = list(set(candidates))\n",
    "candidate_names"
   ]
  },
  {
   "cell_type": "code",
   "execution_count": 6,
   "metadata": {},
   "outputs": [],
   "source": [
    "# Calculate the total votes won by each candidate\n",
    "total_li = candidates.count(\"Li\")\n",
    "total_khan = candidates.count(\"Khan\")\n",
    "total_otooley = candidates.count(\"O'Tooley\")\n",
    "total_correy = candidates.count(\"Correy\")"
   ]
  },
  {
   "cell_type": "code",
   "execution_count": 7,
   "metadata": {},
   "outputs": [],
   "source": [
    "# Calculate the percent of votes won by each candidate\n",
    "percent_li = total_li / total_votes\n",
    "percent_khan = total_khan / total_votes\n",
    "percent_otooley = total_otooley / total_votes\n",
    "percent_correy = total_correy / total_votes"
   ]
  },
  {
   "cell_type": "code",
   "execution_count": 8,
   "metadata": {},
   "outputs": [],
   "source": [
    "# Use mode to return highest vote count for candidates\n",
    "\n",
    "from statistics import mode\n",
    "\n",
    "def winner(candidates):\n",
    "    return(mode(candidates))\n"
   ]
  },
  {
   "cell_type": "code",
   "execution_count": 15,
   "metadata": {},
   "outputs": [
    {
     "name": "stdout",
     "output_type": "stream",
     "text": [
      "Election Results\n",
      "------------------------------\n",
      "Total Votes: 3521001\n",
      "------------------------------\n",
      "Khan: 63.000% (2218231)\n",
      "Correy: 20.000% (704200)\n",
      "Li: 14.000% (492940)\n",
      "O'Tooley: 3.000% (105630)\n",
      "------------------------------\n",
      "Winner: Khan\n"
     ]
    }
   ],
   "source": [
    "print('Election Results')\n",
    "print('-'*30)\n",
    "print(f'Total Votes: {total_votes}')\n",
    "print('-'*30)\n",
    "print(f'Khan: {percent_khan:.3%} ({total_khan})')\n",
    "print(f'Correy: {percent_correy:.3%} ({total_correy})')\n",
    "print(f'Li: {percent_li:.3%} ({total_li})')\n",
    "print(f\"O'Tooley: {percent_otooley:.3%} ({total_otooley})\")\n",
    "print('-'*30)\n",
    "print(f'Winner: {winner(candidates)}')\n"
   ]
  },
  {
   "cell_type": "code",
   "execution_count": 18,
   "metadata": {},
   "outputs": [],
   "source": [
    "with open('election_result.txt', 'w+') as txt:\n",
    "    txt.write('Election Results \\n')\n",
    "    txt.write(f'--------------------------- \\n')\n",
    "    txt.write(f'Total Votes: {total_votes}\\n')\n",
    "    txt.write(f'--------------------------- \\n')\n",
    "    txt.write(f'Khan: {percent_khan:.3%} ({total_khan})\\n')\n",
    "    txt.write(f'Correy: {percent_correy:.3%} ({total_correy})\\n')\n",
    "    txt.write(f'Li: {percent_li:.3%} ({total_li})\\n')\n",
    "    txt.write(f\"O'Tooley: {percent_otooley:.3%} ({total_otooley})\\n\")\n",
    "    txt.write(f'--------------------------- \\n')\n",
    "    txt.write(f'Winner: {winner(candidates)}\\n')\n",
    "    txt.close"
   ]
  },
  {
   "cell_type": "code",
   "execution_count": null,
   "metadata": {},
   "outputs": [],
   "source": []
  }
 ],
 "metadata": {
  "kernelspec": {
   "display_name": "Python [conda env:PythonData] *",
   "language": "python",
   "name": "conda-env-PythonData-py"
  },
  "language_info": {
   "codemirror_mode": {
    "name": "ipython",
    "version": 3
   },
   "file_extension": ".py",
   "mimetype": "text/x-python",
   "name": "python",
   "nbconvert_exporter": "python",
   "pygments_lexer": "ipython3",
   "version": "3.6.10"
  }
 },
 "nbformat": 4,
 "nbformat_minor": 4
}
