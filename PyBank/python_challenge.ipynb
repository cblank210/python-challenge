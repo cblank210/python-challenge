{
 "cells": [
  {
   "cell_type": "code",
   "execution_count": 3,
   "metadata": {},
   "outputs": [],
   "source": [
    "import os\n",
    "import csv"
   ]
  },
  {
   "cell_type": "code",
   "execution_count": null,
   "metadata": {},
   "outputs": [],
   "source": []
  },
  {
   "cell_type": "code",
   "execution_count": 4,
   "metadata": {},
   "outputs": [],
   "source": [
    "budget = \"Resources/budget_data.csv\"\n"
   ]
  },
  {
   "cell_type": "code",
   "execution_count": 5,
   "metadata": {},
   "outputs": [],
   "source": [
    "# Tell the program to open the file, skip the header row, and create a list for each column with each row of information\n",
    "\n",
    "with open(budget) as csv_file:\n",
    "    reader = csv.reader(csv_file, delimiter=',')\n",
    "    header = next(reader)\n",
    "    months = []\n",
    "    profit = []\n",
    "    change = []\n",
    "    \n",
    "    for row in reader:\n",
    "        months.append(row[0])\n",
    "        profit.append(float(row[1]))\n",
    "        "
   ]
  },
  {
   "cell_type": "code",
   "execution_count": 6,
   "metadata": {},
   "outputs": [
    {
     "data": {
      "text/plain": [
       "86"
      ]
     },
     "execution_count": 6,
     "metadata": {},
     "output_type": "execute_result"
    }
   ],
   "source": [
    "# Calculate the total rows in dataset\n",
    "total_months = (len(months))\n",
    "total_months"
   ]
  },
  {
   "cell_type": "code",
   "execution_count": 21,
   "metadata": {},
   "outputs": [
    {
     "data": {
      "text/plain": [
       "38382578.0"
      ]
     },
     "execution_count": 21,
     "metadata": {},
     "output_type": "execute_result"
    }
   ],
   "source": [
    "# Calculate the total profit/loss during the time covered\n",
    "tot_profit = sum(profit)\n",
    "tot_profit"
   ]
  },
  {
   "cell_type": "code",
   "execution_count": 22,
   "metadata": {},
   "outputs": [
    {
     "data": {
      "text/plain": [
       "671099.0"
      ]
     },
     "execution_count": 22,
     "metadata": {},
     "output_type": "execute_result"
    }
   ],
   "source": [
    "# Create variable to hold first profit row entry\n",
    "last_profit = profit[-1]\n",
    "last_profit"
   ]
  },
  {
   "cell_type": "code",
   "execution_count": 23,
   "metadata": {},
   "outputs": [
    {
     "data": {
      "text/plain": [
       "867884.0"
      ]
     },
     "execution_count": 23,
     "metadata": {},
     "output_type": "execute_result"
    }
   ],
   "source": [
    "# Create variable to hold last profit row entry\n",
    "first_profit = profit[0]\n",
    "first_profit"
   ]
  },
  {
   "cell_type": "code",
   "execution_count": 24,
   "metadata": {},
   "outputs": [
    {
     "data": {
      "text/plain": [
       "-2315.1176470588234"
      ]
     },
     "execution_count": 24,
     "metadata": {},
     "output_type": "execute_result"
    }
   ],
   "source": [
    "# Create variable to calculate the average profit over the time frame\n",
    "avg_profit = (last_profit - first_profit) / (total_months - 1)\n",
    "avg_profit"
   ]
  },
  {
   "cell_type": "code",
   "execution_count": null,
   "metadata": {},
   "outputs": [],
   "source": []
  },
  {
   "cell_type": "code",
   "execution_count": 25,
   "metadata": {},
   "outputs": [
    {
     "name": "stdout",
     "output_type": "stream",
     "text": [
      "Financial Analysis\n",
      "------------------------------\n",
      "Total Months: 86\n",
      "Total: 38382578.0\n",
      "Average Change: -2315.1176470588234\n",
      "Greatest Increase in Profits: \n",
      "Greatest Decrease in Profits: \n"
     ]
    }
   ],
   "source": [
    "print(\"Financial Analysis\")\n",
    "print('-'*30)\n",
    "print(f'Total Months: {total_months}')\n",
    "print(f'Total: {tot_profit}')\n",
    "print(f'Average Change: {avg_profit}')\n",
    "print(f'Greatest Increase in Profits: ')\n",
    "print(f'Greatest Decrease in Profits: ')"
   ]
  },
  {
   "cell_type": "code",
   "execution_count": 26,
   "metadata": {},
   "outputs": [],
   "source": [
    "with open('financial_analysis.txt', 'w+') as txt:\n",
    "    txt.write(\"Financial Analysis\\n\")\n",
    "    txt.write(f'--------------------------- \\n')\n",
    "    txt.write(f'Total Months: {total_months}\\n')\n",
    "    txt.write(f'Total: {tot_profit}\\n')\n",
    "    txt.write(f'Average Change: {avg_profit}\\n')\n",
    "    txt.write(f'Greatest Increase in Profits: \\n')\n",
    "    txt.write(f'Greatest Decrease in Profits: \\n')"
   ]
  },
  {
   "cell_type": "code",
   "execution_count": null,
   "metadata": {},
   "outputs": [],
   "source": []
  },
  {
   "cell_type": "code",
   "execution_count": null,
   "metadata": {},
   "outputs": [],
   "source": []
  },
  {
   "cell_type": "code",
   "execution_count": null,
   "metadata": {},
   "outputs": [],
   "source": []
  }
 ],
 "metadata": {
  "kernelspec": {
   "display_name": "Python 3",
   "language": "python",
   "name": "python3"
  },
  "language_info": {
   "codemirror_mode": {
    "name": "ipython",
    "version": 3
   },
   "file_extension": ".py",
   "mimetype": "text/x-python",
   "name": "python",
   "nbconvert_exporter": "python",
   "pygments_lexer": "ipython3",
   "version": "3.6.10"
  }
 },
 "nbformat": 4,
 "nbformat_minor": 4
}
