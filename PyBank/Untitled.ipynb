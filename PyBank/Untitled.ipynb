{
 "cells": [
  {
   "cell_type": "code",
   "execution_count": 124,
   "metadata": {},
   "outputs": [],
   "source": [
    "import os\n",
    "import csv"
   ]
  },
  {
   "cell_type": "code",
   "execution_count": null,
   "metadata": {},
   "outputs": [],
   "source": []
  },
  {
   "cell_type": "code",
   "execution_count": 125,
   "metadata": {},
   "outputs": [],
   "source": [
    "budget = \"Resources/budget_data.csv\"\n"
   ]
  },
  {
   "cell_type": "code",
   "execution_count": 162,
   "metadata": {},
   "outputs": [],
   "source": [
    "# Tell the program to open the file, skip the header row, and create a list for each column with each row of information\n",
    "\n",
    "with open(budget) as file:\n",
    "    reader = csv.reader(file)\n",
    "    header = next(reader)\n",
    "    months = []\n",
    "    profit = []\n",
    "    \n",
    "    for row in reader:\n",
    "        months.append(row[0])\n",
    "        profit.append(float(row[1]))\n",
    "  \n",
    "\n",
    "    \n",
    "\n",
    "\n"
   ]
  },
  {
   "cell_type": "code",
   "execution_count": 163,
   "metadata": {},
   "outputs": [
    {
     "data": {
      "text/plain": [
       "86"
      ]
     },
     "execution_count": 163,
     "metadata": {},
     "output_type": "execute_result"
    }
   ],
   "source": [
    "total_months = (len(months))\n",
    "total_months"
   ]
  },
  {
   "cell_type": "code",
   "execution_count": 166,
   "metadata": {},
   "outputs": [
    {
     "data": {
      "text/plain": [
       "38382578.0"
      ]
     },
     "execution_count": 166,
     "metadata": {},
     "output_type": "execute_result"
    }
   ],
   "source": [
    "net_profit = sum(profit)\n",
    "net_profit"
   ]
  },
  {
   "cell_type": "code",
   "execution_count": 181,
   "metadata": {},
   "outputs": [
    {
     "ename": "AttributeError",
     "evalue": "'float' object has no attribute 'index'",
     "output_type": "error",
     "traceback": [
      "\u001b[0;31m---------------------------------------------------------------------------\u001b[0m",
      "\u001b[0;31mAttributeError\u001b[0m                            Traceback (most recent call last)",
      "\u001b[0;32m<ipython-input-181-c46502de1381>\u001b[0m in \u001b[0;36m<module>\u001b[0;34m\u001b[0m\n\u001b[1;32m      1\u001b[0m \u001b[0mhigh_value\u001b[0m \u001b[0;34m=\u001b[0m \u001b[0mmax\u001b[0m\u001b[0;34m(\u001b[0m\u001b[0mprofit\u001b[0m\u001b[0;34m)\u001b[0m\u001b[0;34m\u001b[0m\u001b[0;34m\u001b[0m\u001b[0m\n\u001b[0;32m----> 2\u001b[0;31m \u001b[0mprint\u001b[0m\u001b[0;34m(\u001b[0m\u001b[0mhigh_value\u001b[0m\u001b[0;34m.\u001b[0m\u001b[0mindex\u001b[0m\u001b[0;34m(\u001b[0m\u001b[0mmonths\u001b[0m\u001b[0;34m)\u001b[0m\u001b[0;34m)\u001b[0m\u001b[0;34m\u001b[0m\u001b[0;34m\u001b[0m\u001b[0m\n\u001b[0m",
      "\u001b[0;31mAttributeError\u001b[0m: 'float' object has no attribute 'index'"
     ]
    }
   ],
   "source": [
    "high_value = max(profit)\n",
    "print(high_value.index(months))"
   ]
  },
  {
   "cell_type": "code",
   "execution_count": 177,
   "metadata": {},
   "outputs": [
    {
     "data": {
      "text/plain": [
       "[867884.0,\n",
       " 984655.0,\n",
       " 322013.0,\n",
       " -69417.0,\n",
       " 310503.0,\n",
       " 522857.0,\n",
       " 1033096.0,\n",
       " 604885.0,\n",
       " -216386.0,\n",
       " 477532.0,\n",
       " 893810.0,\n",
       " -80353.0,\n",
       " 779806.0,\n",
       " -335203.0,\n",
       " 697845.0,\n",
       " 793163.0,\n",
       " 485070.0,\n",
       " 584122.0,\n",
       " 62729.0,\n",
       " 668179.0,\n",
       " 899906.0,\n",
       " 834719.0,\n",
       " 132003.0,\n",
       " 309978.0,\n",
       " -755566.0,\n",
       " 1170593.0,\n",
       " 252788.0,\n",
       " 1151518.0,\n",
       " 817256.0,\n",
       " 570757.0,\n",
       " 506702.0,\n",
       " -1022534.0,\n",
       " 475062.0,\n",
       " 779976.0,\n",
       " 144175.0,\n",
       " 542494.0,\n",
       " 359333.0,\n",
       " 321469.0,\n",
       " 67780.0,\n",
       " 471435.0,\n",
       " 565603.0,\n",
       " 872480.0,\n",
       " 789480.0,\n",
       " 999942.0,\n",
       " -1196225.0,\n",
       " 268997.0,\n",
       " -687986.0,\n",
       " 1150461.0,\n",
       " 682458.0,\n",
       " 617856.0,\n",
       " 824098.0,\n",
       " 581943.0,\n",
       " 132864.0,\n",
       " 448062.0,\n",
       " 689161.0,\n",
       " 800701.0,\n",
       " 1166643.0,\n",
       " 947333.0,\n",
       " 578668.0,\n",
       " 988505.0,\n",
       " 1139715.0,\n",
       " 1029471.0,\n",
       " 687533.0,\n",
       " -524626.0,\n",
       " 158620.0,\n",
       " 87795.0,\n",
       " 423389.0,\n",
       " 840723.0,\n",
       " 568529.0,\n",
       " 332067.0,\n",
       " 989499.0,\n",
       " 778237.0,\n",
       " 650000.0,\n",
       " -1100387.0,\n",
       " -174946.0,\n",
       " 757143.0,\n",
       " 445709.0,\n",
       " 712961.0,\n",
       " -1163797.0,\n",
       " 569899.0,\n",
       " 768450.0,\n",
       " 102685.0,\n",
       " 795914.0,\n",
       " 60988.0,\n",
       " 138230.0,\n",
       " 671099.0]"
      ]
     },
     "execution_count": 177,
     "metadata": {},
     "output_type": "execute_result"
    }
   ],
   "source": [
    "def "
   ]
  },
  {
   "cell_type": "code",
   "execution_count": 178,
   "metadata": {},
   "outputs": [
    {
     "data": {
      "text/plain": [
       "['Feb-2017', '671099']"
      ]
     },
     "execution_count": 178,
     "metadata": {},
     "output_type": "execute_result"
    }
   ],
   "source": [
    "row [:]"
   ]
  },
  {
   "cell_type": "code",
   "execution_count": null,
   "metadata": {},
   "outputs": [],
   "source": []
  }
 ],
 "metadata": {
  "kernelspec": {
   "display_name": "Python 3",
   "language": "python",
   "name": "python3"
  },
  "language_info": {
   "codemirror_mode": {
    "name": "ipython",
    "version": 3
   },
   "file_extension": ".py",
   "mimetype": "text/x-python",
   "name": "python",
   "nbconvert_exporter": "python",
   "pygments_lexer": "ipython3",
   "version": "3.8.5"
  }
 },
 "nbformat": 4,
 "nbformat_minor": 4
}
